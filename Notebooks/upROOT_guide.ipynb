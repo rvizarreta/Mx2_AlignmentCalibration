{
 "cells": [
  {
   "attachments": {},
   "cell_type": "markdown",
   "id": "fbef7567",
   "metadata": {},
   "source": [
    "### UpROOT NOTES FROM UNDERGRADUATE RESEARCH"
   ]
  },
  {
   "cell_type": "code",
   "execution_count": 2,
   "id": "f21b3c02-305c-4ec6-bdc6-ba8c5471cc7c",
   "metadata": {},
   "outputs": [],
   "source": [
    "import uproot"
   ]
  },
  {
   "cell_type": "code",
   "execution_count": 1,
   "id": "2b296fde-d22f-459a-a61a-b8ece36dc2dc",
   "metadata": {},
   "outputs": [
    {
     "name": "stdout",
     "output_type": "stream",
     "text": [
      "Welcome to JupyROOT 6.22/08\n"
     ]
    }
   ],
   "source": [
    "import ROOT"
   ]
  },
  {
   "cell_type": "code",
   "execution_count": 2,
   "id": "3075145f-21a7-4dc2-8166-2fd5b97c3269",
   "metadata": {},
   "outputs": [],
   "source": [
    "import numpy"
   ]
  },
  {
   "cell_type": "code",
   "execution_count": 4,
   "id": "83057dc6-bdea-4712-8105-dc510a3473f4",
   "metadata": {},
   "outputs": [
    {
     "data": {
      "image/png": "[encoded data removed]",
      "text/plain": [
       "<IPython.core.display.Image object>"
      ]
     },
     "metadata": {},
     "output_type": "display_data"
    }
   ],
   "source": [
    "h = ROOT.TH1F(\"gauss\",\"Example histogram\",100,-4,4)\n",
    "h.FillRandom(\"gaus\")\n",
    "c = ROOT.TCanvas(\"myCanvasName\",\"The Canvas Title\",800,600)\n",
    "h.Draw()\n",
    "c.Draw()"
   ]
  },
  {
   "cell_type": "code",
   "execution_count": null,
   "id": "3431717a-b4e4-4f7b-a5c1-e5d8e066964c",
   "metadata": {},
   "outputs": [],
   "source": []
  },
  {
   "cell_type": "code",
   "execution_count": 5,
   "id": "984ee5fc-9ce8-4043-8c18-dfec1fda03d9",
   "metadata": {},
   "outputs": [
    {
     "data": {
      "application/vnd.jupyter.widget-view+json": {
       "model_id": "1ed0083e41c4410c9b0c2aefeb930bb2",
       "version_major": 2,
       "version_minor": 0
      },
      "text/plain": [
       "Dropdown(description='🌴 Tree:', layout=Layout(width='max-content'), options=('Select Tree', 'header;1', 'gates…"
      ]
     },
     "metadata": {},
     "output_type": "display_data"
    }
   ],
   "source": [
    "# Extracting trees from root file\n",
    "file = uproot.open('../nearlinetest/ntuple_cal.root')\n",
    "trees = file.keys()\n",
    "trees.insert(0, 'Select Tree')\n",
    "drop_down_trees = widgets.Dropdown(options=trees,\n",
    "                                description='🌴 Tree:',\n",
    "                                disabled=False,\n",
    "                                layout={'width': 'max-content'})\n",
    "display(drop_down_trees)"
   ]
  },
  {
   "cell_type": "code",
   "execution_count": 6,
   "id": "90b0d6ee-dc2c-45cf-8cb7-212e7293ff2e",
   "metadata": {},
   "outputs": [
    {
     "data": {
      "application/vnd.jupyter.widget-view+json": {
       "model_id": "b89a318be5ea4e5cbec17f4906a35a88",
       "version_major": 2,
       "version_minor": 0
      },
      "text/plain": [
       "Dropdown(description='🍂 Branch:', layout=Layout(width='max-content'), options=('Select Branch', 'ev_run', 'ev_…"
      ]
     },
     "metadata": {},
     "output_type": "display_data"
    }
   ],
   "source": [
    "# Extracting branches from selected tree\n",
    "tree = file[drop_down_trees.value]\n",
    "branches = tree.keys() \n",
    "branches.insert(0, 'Select Branch')\n",
    "drop_down_branches = widgets.Dropdown(options=branches,\n",
    "                            description='🍂 Branch:',\n",
    "                            disabled=False,\n",
    "                            layout={'width': 'max-content'})\n",
    "display(drop_down_branches)"
   ]
  },
  {
   "cell_type": "code",
   "execution_count": 7,
   "id": "6a63213e-d1e5-4cd0-a9ce-13b0094e29dd",
   "metadata": {},
   "outputs": [
    {
     "data": {
      "text/plain": [
       "array([   2,    3,    4,    6,    7,    7,    8,    8,    9,   17,   21,\n",
       "         22,   27,   28,   28,   30,   30,   30,   32,   32,   35,   36,\n",
       "         36,   38,   43,   43,   47,   51,   57,   57,   63,   63,   67,\n",
       "         71,   76,   77,   79,   80,   82,   85,   88,   90,   94,   95,\n",
       "        100,  106,  108,  108,  109,  118,  118,  125,  126,  128,  128,\n",
       "        134,  137,  139,  142,  142,  143,  149,  149,  149,  156,  158,\n",
       "        162,  166,  166,  167,  169,  170,  170,  175,  175,  175,  177,\n",
       "        182,  184,  185,  189,  189,  190,  190,  191,  192,  192,  194,\n",
       "        195,  200,  200,  203,  206,  207,  208,  212,  212,  213,  214,\n",
       "        217,  218,  219,  220,  220,  227,  227,  228,  234,  236,  238,\n",
       "        239,  244,  247,  249,  249,  251,  258,  259,  259,  259,  262,\n",
       "        263,  264,  264,  265,  272,  279,  279,  281,  284,  288,  294,\n",
       "        300,  301,  304,  307,  308,  314,  316,  317,  319,  319,  320,\n",
       "        324,  330,  332,  339,  340,  340,  341,  343,  344,  344,  345,\n",
       "        345,  345,  350,  354,  356,  357,  362,  370,  370,  378,  382,\n",
       "        384,  386,  387,  387,  397,  400,  400,  401,  401,  402,  402,\n",
       "        403,  407,  408,  409,  412,  412,  412,  416,  416,  416,  417,\n",
       "        417,  420,  421,  421,  422,  423,  425,  434,  451,  454,  457,\n",
       "        458,  458,  459,  464,  469,  470,  473,  474,  482,  482,  482,\n",
       "        484,  489,  493,  497,  500,  502,  503,  504,  504,  504,  507,\n",
       "        508,  508,  510,  515,  516,  523,  523,  524,  526,  526,  531,\n",
       "        538,  538,  541,  542,  543,  545,  550,  552,  556,  557,  558,\n",
       "        558,  558,  564,  565,  566,  573,  576,  578,  580,  581,  582,\n",
       "        584,  584,  587,  587,  587,  589,  591,  592,  592,  598,  600,\n",
       "        601,  603,  604,  604,  608,  609,  609,  610,  611,  613,  618,\n",
       "        623,  627,  629,  629,  634,  634,  635,  635,  635,  637,  647,\n",
       "        649,  650,  651,  651,  652,  652,  653,  656,  659,  668,  669,\n",
       "        672,  678,  685,  693,  694,  696,  705,  710,  712,  712,  714,\n",
       "        715,  721,  721,  729,  730,  736,  737,  738,  738,  742,  744,\n",
       "        746,  746,  747,  753,  753,  756,  757,  758,  758,  759,  760,\n",
       "        762,  764,  766,  767,  770,  772,  775,  778,  786,  787,  791,\n",
       "        795,  795,  796,  796,  813,  819,  819,  822,  828,  831,  838,\n",
       "        841,  843,  843,  845,  847,  847,  855,  857,  858,  859,  864,\n",
       "        864,  871,  873,  874,  875,  875,  876,  877,  879,  879,  880,\n",
       "        882,  886,  887,  891,  892,  893,  895,  896,  896,  896,  898,\n",
       "        899,  902,  903,  905,  906,  907,  910,  917,  923,  925,  926,\n",
       "        931,  936,  939,  943,  945,  945,  945,  946,  947,  950,  950,\n",
       "        952,  952,  952,  953,  954,  957,  964,  966,  968,  970,  973,\n",
       "        975,  980,  982,  983,  985,  985,  986,  986,  986,  987,  987,\n",
       "        989,  989,  991,  992,  993,  994,  996,  997,  998, 1003, 1004,\n",
       "       1007, 1009, 1011, 1012, 1020, 1023, 1024, 1025, 1028, 1039, 1042,\n",
       "       1047, 1048, 1049, 1051, 1054, 1060, 1064, 1066, 1068, 1071, 1071,\n",
       "       1072, 1074, 1075, 1076, 1077, 1078, 1078, 1078, 1083, 1088, 1088,\n",
       "       1088, 1090, 1090, 1090, 1091, 1092, 1099, 1102, 1104, 1107, 1109,\n",
       "       1110, 1118, 1127, 1130, 1133, 1134, 1134, 1138, 1143, 1159, 1161,\n",
       "       1162, 1167, 1167, 1167, 1167, 1168, 1168, 1170, 1172, 1175, 1177,\n",
       "       1182, 1185, 1186, 1186, 1188, 1188, 1188, 1191, 1193, 1197, 1198,\n",
       "       1198, 1198, 1199, 1199, 1201, 1202, 1204, 1206, 1206, 1213, 1215,\n",
       "       1215, 1217, 1219, 1219, 1221, 1221, 1223, 1226, 1226, 1228, 1229,\n",
       "       1230, 1231, 1238, 1242, 1243, 1250, 1254, 1254, 1255, 1255, 1258,\n",
       "       1259, 1263, 1266, 1267, 1270, 1272, 1274, 1279, 1280, 1280, 1282,\n",
       "       1282, 1286, 1287, 1289, 1292, 1299, 1300, 1300, 1301, 1306, 1307,\n",
       "       1309, 1309, 1316, 1317, 1321, 1324, 1333, 1333, 1337, 1337, 1340,\n",
       "       1346, 1350, 1353, 1353, 1354, 1354, 1354, 1357, 1358, 1360, 1361,\n",
       "       1362, 1368, 1370, 1375, 1376, 1377, 1378, 1381, 1383, 1388, 1390,\n",
       "       1394, 1396, 1397, 1398, 1399, 1400, 1400, 1416, 1416, 1416, 1418,\n",
       "       1418, 1420, 1423, 1425, 1426, 1427, 1429, 1432, 1438, 1439, 1440,\n",
       "       1444, 1446, 1448, 1449, 1451, 1453, 1453, 1457, 1458, 1459, 1459,\n",
       "       1463, 1463, 1463, 1464, 1464, 1465, 1465, 1469, 1470, 1471, 1474,\n",
       "       1476, 1479, 1483, 1484, 1485, 1487, 1494, 1499], dtype=int32)"
      ]
     },
     "execution_count": 7,
     "metadata": {},
     "output_type": "execute_result"
    }
   ],
   "source": [
    "# Showing data\n",
    "branch = drop_down_branches.value\n",
    "data = tree.arrays()[branch].to_numpy()\n",
    "data"
   ]
  },
  {
   "cell_type": "code",
   "execution_count": null,
   "id": "1ddc70ff-e18b-472b-acd7-ecde24c9edea",
   "metadata": {},
   "outputs": [],
   "source": []
  }
 ],
 "metadata": {
  "kernelspec": {
   "display_name": "Python 3",
   "language": "python",
   "name": "python3"
  },
  "language_info": {
   "codemirror_mode": {
    "name": "ipython",
    "version": 3
   },
   "file_extension": ".py",
   "mimetype": "text/x-python",
   "name": "python",
   "nbconvert_exporter": "python",
   "pygments_lexer": "ipython3",
   "version": "3.9.2"
  }
 },
 "nbformat": 4,
 "nbformat_minor": 5
}
