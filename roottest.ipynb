{
 "cells": [
  {
   "cell_type": "code",
   "execution_count": 24,
   "id": "2635b0f3-9b99-40b9-8497-1ab08cde4878",
   "metadata": {},
   "outputs": [],
   "source": [
    "# REQUIRED PACKAGES\n",
    "import uproot\n",
    "\n",
    "# IMPORTING ADDITIONAL PACKAGES\n",
    "from ipywidgets import interact, widgets"
   ]
  },
  {
   "cell_type": "code",
   "execution_count": 31,
   "id": "d9abb2fc-a010-45dc-80c4-631e777cef9e",
   "metadata": {
    "tags": []
   },
   "outputs": [
    {
     "data": {
      "application/vnd.jupyter.widget-view+json": {
       "model_id": "bb3d2afe783c45128884f9e4d053a465",
       "version_major": 2,
       "version_minor": 0
      },
      "text/plain": [
       "Dropdown(description='🌴 Tree:', layout=Layout(width='max-content'), options=('Select Tree', 'header;1', 'gates…"
      ]
     },
     "metadata": {},
     "output_type": "display_data"
    }
   ],
   "source": [
    "# Extracting trees from root file\n",
    "file = uproot.open('nt.root')\n",
    "trees = file.keys()\n",
    "trees.insert(0, 'Select Tree')\n",
    "drop_down_trees = widgets.Dropdown(options=trees,\n",
    "                                description='🌴 Tree:',\n",
    "                                disabled=False,\n",
    "                                layout={'width': 'max-content'})\n",
    "display(drop_down_trees)"
   ]
  },
  {
   "cell_type": "code",
   "execution_count": 33,
   "id": "c3fb9674-3947-4cdb-a937-f84aba52eec4",
   "metadata": {
    "tags": []
   },
   "outputs": [
    {
     "data": {
      "application/vnd.jupyter.widget-view+json": {
       "model_id": "a6fb11109c784188b01a6f14f476b28d",
       "version_major": 2,
       "version_minor": 0
      },
      "text/plain": [
       "Dropdown(description='🍂 Branch:', layout=Layout(width='max-content'), options=('Select Branch', 'ev_run', 'ev_…"
      ]
     },
     "metadata": {},
     "output_type": "display_data"
    }
   ],
   "source": [
    "# Extracting branches from selected tree\n",
    "tree = file[drop_down_trees.value]\n",
    "branches = tree.keys() \n",
    "branches.insert(0, 'Select Branch')\n",
    "drop_down_branches = widgets.Dropdown(options=branches,\n",
    "                            description='🍂 Branch:',\n",
    "                            disabled=False,\n",
    "                            layout={'width': 'max-content'})\n",
    "display(drop_down_branches)"
   ]
  },
  {
   "cell_type": "code",
   "execution_count": 37,
   "id": "0c719eaa-b86a-4439-9595-22d73a07a956",
   "metadata": {
    "tags": []
   },
   "outputs": [
    {
     "data": {
      "text/plain": [
       "array([], dtype=float64)"
      ]
     },
     "execution_count": 37,
     "metadata": {},
     "output_type": "execute_result"
    }
   ],
   "source": [
    "# Showing data\n",
    "branch = drop_down_branches.value\n",
    "data = tree.arrays()[branch].to_numpy()\n",
    "data"
   ]
  },
  {
   "cell_type": "code",
   "execution_count": null,
   "id": "13d21910-be3c-4e4e-9c42-3bc95945f254",
   "metadata": {},
   "outputs": [],
   "source": []
  }
 ],
 "metadata": {
  "kernelspec": {
   "display_name": "Python 3 (ipykernel)",
   "language": "python",
   "name": "python3"
  },
  "language_info": {
   "codemirror_mode": {
    "name": "ipython",
    "version": 3
   },
   "file_extension": ".py",
   "mimetype": "text/x-python",
   "name": "python",
   "nbconvert_exporter": "python",
   "pygments_lexer": "ipython3",
   "version": "3.11.3"
  }
 },
 "nbformat": 4,
 "nbformat_minor": 5
}
